{
  "nbformat": 4,
  "nbformat_minor": 0,
  "metadata": {
    "colab": {
      "name": "Stock_Price_Prediction.ipynb",
      "provenance": [],
      "private_outputs": true,
      "authorship_tag": "ABX9TyOMcnL2nHx7s0RezN20nKN4",
      "include_colab_link": true
    },
    "kernelspec": {
      "name": "python3",
      "display_name": "Python 3"
    },
    "language_info": {
      "name": "python"
    }
  },
  "cells": [
    {
      "cell_type": "markdown",
      "metadata": {
        "id": "view-in-github",
        "colab_type": "text"
      },
      "source": [
        "<a href=\"https://colab.research.google.com/github/Mohamed-derbeli/Machine-Learning-Projects/blob/main/Stock_Price_Prediction.ipynb\" target=\"_parent\"><img src=\"https://colab.research.google.com/assets/colab-badge.svg\" alt=\"Open In Colab\"/></a>"
      ]
    },
    {
      "cell_type": "markdown",
      "source": [
        "# **Stock Price Prediction**\n",
        "\n",
        "\n",
        "*   In this project, we will be talking about predicting the returns on stocks. \n",
        "*   We will predict the stock price using the LSTM neural network.\n",
        "*   The data contains records about the stock price of Tata Global Beverages Limited. The dataset also contains a date-wise price of stock with open, close, high, and low prices along with volume traded as well as turnover on that day."
      ],
      "metadata": {
        "id": "N9fuB_sZ3XJ6"
      }
    },
    {
      "cell_type": "markdown",
      "source": [
        "### 2.    Installing"
      ],
      "metadata": {
        "id": "3itMk1ZHJ-E1"
      }
    },
    {
      "cell_type": "code",
      "source": [
        "# !sudo apt-get install python3-dev default-libmysqlclient-dev\n",
        "# !pip install pymysql\n",
        "# !pip install mysql-connector-python"
      ],
      "metadata": {
        "id": "K4nO0GL0HoC1"
      },
      "execution_count": null,
      "outputs": []
    },
    {
      "cell_type": "markdown",
      "source": [
        "### 1.    Imports"
      ],
      "metadata": {
        "id": "EDeiY1JEKCEP"
      }
    },
    {
      "cell_type": "code",
      "execution_count": null,
      "metadata": {
        "id": "nzEJB-8L3MoX"
      },
      "outputs": [],
      "source": [
        "import os\n",
        "from sqlalchemy import create_engine\n",
        "\n",
        "import pandas as pd\n",
        "import numpy as np\n",
        "import matplotlib.pyplot as plt\n",
        "%matplotlib inline\n",
        "from matplotlib.pylab import rcParams\n",
        "rcParams['figure.figsize']=20,10\n",
        "# from keras.models import Sequential\n",
        "# from keras.layers import LSTM,Dropout,Dense\n",
        "# from sklearn.preprocessing import MinMaxScaler\n"
      ]
    },
    {
      "cell_type": "markdown",
      "source": [
        "### 3. Connection to mysql server"
      ],
      "metadata": {
        "id": "ybzFX8Vqc4fa"
      }
    },
    {
      "cell_type": "code",
      "source": [
        "# Set environment variables\n",
        "os.environ['MYSQL_DB_USERNAME'] = input(\"Enter the username of the environment variable:\")\n",
        "os.environ['MYSQL_DB_PASSWORD'] = input(\"Enter the password of the environment variable:\")\n",
        "\n",
        "# Get environment variables\n",
        "user_name = os.environ.get('MYSQL_DB_USERNAME')\n",
        "password = os.environ.get('MYSQL_DB_PASSWORD')"
      ],
      "metadata": {
        "id": "qzXvXl8JL7-I"
      },
      "execution_count": null,
      "outputs": []
    },
    {
      "cell_type": "markdown",
      "source": [
        "_"
      ],
      "metadata": {
        "id": "vNmLIxAp3ZCO"
      }
    },
    {
      "cell_type": "code",
      "source": [
        ""
      ],
      "metadata": {
        "id": "d2lcuNVDxpQH"
      },
      "execution_count": null,
      "outputs": []
    },
    {
      "cell_type": "code",
      "source": [
        "# DEFINE THE DATABASE CREDENTIALS\n",
        "user = user_name\n",
        "password = password\n",
        "host = 'localhost'\n",
        "port = 3306\n",
        "database = 'schema_2_'\n",
        "  \n",
        "# PYTHON FUNCTION TO CONNECT TO THE MYSQL DATABASE AND\n",
        "engine= create_engine(url=\"mysql+pymysql://{0}:{1}@{2}:{3}/{4}\".format(user, password, host, port, database))\n",
        "connection=engine.connect()\n",
        "  \n",
        "\n"
      ],
      "metadata": {
        "id": "ul6zsVj_KtIU"
      },
      "execution_count": null,
      "outputs": []
    },
    {
      "cell_type": "markdown",
      "source": [
        "## 2.   Read the dataset:"
      ],
      "metadata": {
        "id": "pXljIpit3cIl"
      }
    },
    {
      "cell_type": "code",
      "source": [
        "query = \"\"\"SELECT * FROM schema_2_.Stock_Price_Predicton;\"\"\"\n",
        "\n",
        "sql_df = pd.read_sql(query, con=connection)\n",
        "sql_df\n",
        "# print(sql_df)\n"
      ],
      "metadata": {
        "id": "ajLJCAut3bU_"
      },
      "execution_count": null,
      "outputs": []
    }
  ]
}