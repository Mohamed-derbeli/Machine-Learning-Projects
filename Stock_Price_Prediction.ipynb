{
 "cells": [
  {
   "cell_type": "markdown",
   "id": "e46f2345",
   "metadata": {},
   "source": [
    "# **Stock Price Prediction**\n",
    "\n",
    "\n",
    "*   In this project, we will be talking about predicting the returns on stocks. \n",
    "*   We will predict the stock price using the LSTM neural network.\n",
    "*   The data contains records about the stock price of Tata Global Beverages Limited. The dataset also contains a date-wise price of stock with open, close, high, and low prices along with volume traded as well as turnover on that day.\n",
    "\n",
    "### 1.    Imports"
   ]
  },
  {
   "cell_type": "code",
   "execution_count": 3,
   "id": "112cb7e9",
   "metadata": {},
   "outputs": [],
   "source": [
    "import os\n",
    "from sqlalchemy import create_engine\n",
    "\n",
    "import pandas as pd\n",
    "import numpy as np\n",
    "import matplotlib.pyplot as plt\n",
    "%matplotlib inline\n",
    "from matplotlib.pylab import rcParams\n",
    "rcParams['figure.figsize']=20,10"
   ]
  },
  {
   "cell_type": "markdown",
   "id": "93477e1e",
   "metadata": {},
   "source": [
    "### 2. Connection to mysql server"
   ]
  },
  {
   "cell_type": "code",
   "execution_count": 11,
   "id": "5c424446",
   "metadata": {},
   "outputs": [],
   "source": [
    "# Set environment variables\n",
    "os.environ['MYSQL_DB_USERNAME'] = input(\"Enter the username of the environment variable:\")\n",
    "os.environ['MYSQL_DB_PASSWORD'] = input(\"Enter the password of the environment variable:\")\n",
    "\n",
    "# Get environment variables\n",
    "user_name = os.environ.get('MYSQL_DB_USERNAME')\n",
    "password = os.environ.get('MYSQL_DB_PASSWORD')"
   ]
  },
  {
   "cell_type": "code",
   "execution_count": 12,
   "id": "6a3a96a0",
   "metadata": {},
   "outputs": [],
   "source": [
    "# DEFINE THE DATABASE CREDENTIALS\n",
    "user = user_name\n",
    "password = password\n",
    "host = 'localhost'\n",
    "port = 3306\n",
    "database = 'schema_2_'\n",
    "  \n",
    "# PYTHON FUNCTION TO CONNECT TO THE MYSQL DATABASE AND\n",
    "engine= create_engine(url=\"mysql+pymysql://{0}:{1}@{2}:{3}/{4}\".format(user, password, host, port, database))\n",
    "connection=engine.connect()"
   ]
  },
  {
   "cell_type": "markdown",
   "id": "37c83427",
   "metadata": {},
   "source": [
    "## 3.   Read the dataset:"
   ]
  },
  {
   "cell_type": "code",
   "execution_count": 13,
   "id": "ffa2694a",
   "metadata": {},
   "outputs": [],
   "source": [
    "query = \"\"\"SELECT * FROM schema_2_.Stock_Price_Predicton;\"\"\"\n",
    "\n",
    "df = pd.read_sql(query, con=connection)"
   ]
  },
  {
   "cell_type": "code",
   "execution_count": 15,
   "id": "17a5e557",
   "metadata": {},
   "outputs": [
    {
     "data": {
      "text/html": [
       "<div>\n",
       "<style scoped>\n",
       "    .dataframe tbody tr th:only-of-type {\n",
       "        vertical-align: middle;\n",
       "    }\n",
       "\n",
       "    .dataframe tbody tr th {\n",
       "        vertical-align: top;\n",
       "    }\n",
       "\n",
       "    .dataframe thead th {\n",
       "        text-align: right;\n",
       "    }\n",
       "</style>\n",
       "<table border=\"1\" class=\"dataframe\">\n",
       "  <thead>\n",
       "    <tr style=\"text-align: right;\">\n",
       "      <th></th>\n",
       "      <th>Date</th>\n",
       "      <th>Open</th>\n",
       "      <th>High</th>\n",
       "      <th>Low</th>\n",
       "      <th>Last</th>\n",
       "      <th>Close</th>\n",
       "      <th>Total_Trade_Quantity</th>\n",
       "      <th>Turnover_Lacs</th>\n",
       "    </tr>\n",
       "  </thead>\n",
       "  <tbody>\n",
       "    <tr>\n",
       "      <th>0</th>\n",
       "      <td>2013-10-08</td>\n",
       "      <td>157.00</td>\n",
       "      <td>157.80</td>\n",
       "      <td>155.20</td>\n",
       "      <td>155.8</td>\n",
       "      <td>155.80</td>\n",
       "      <td>1720413.0</td>\n",
       "      <td>2688.94</td>\n",
       "    </tr>\n",
       "    <tr>\n",
       "      <th>1</th>\n",
       "      <td>2013-10-09</td>\n",
       "      <td>155.70</td>\n",
       "      <td>158.20</td>\n",
       "      <td>154.15</td>\n",
       "      <td>155.3</td>\n",
       "      <td>155.55</td>\n",
       "      <td>2049580.0</td>\n",
       "      <td>3204.49</td>\n",
       "    </tr>\n",
       "    <tr>\n",
       "      <th>2</th>\n",
       "      <td>2013-10-10</td>\n",
       "      <td>156.00</td>\n",
       "      <td>160.80</td>\n",
       "      <td>155.85</td>\n",
       "      <td>160.3</td>\n",
       "      <td>160.15</td>\n",
       "      <td>3124853.0</td>\n",
       "      <td>4978.80</td>\n",
       "    </tr>\n",
       "    <tr>\n",
       "      <th>3</th>\n",
       "      <td>2013-10-11</td>\n",
       "      <td>161.15</td>\n",
       "      <td>163.45</td>\n",
       "      <td>159.00</td>\n",
       "      <td>159.8</td>\n",
       "      <td>160.05</td>\n",
       "      <td>1880046.0</td>\n",
       "      <td>3030.76</td>\n",
       "    </tr>\n",
       "    <tr>\n",
       "      <th>4</th>\n",
       "      <td>2013-10-14</td>\n",
       "      <td>160.85</td>\n",
       "      <td>161.45</td>\n",
       "      <td>157.70</td>\n",
       "      <td>159.3</td>\n",
       "      <td>159.45</td>\n",
       "      <td>1281419.0</td>\n",
       "      <td>2039.09</td>\n",
       "    </tr>\n",
       "  </tbody>\n",
       "</table>\n",
       "</div>"
      ],
      "text/plain": [
       "         Date    Open    High     Low   Last   Close  Total_Trade_Quantity  \\\n",
       "0  2013-10-08  157.00  157.80  155.20  155.8  155.80             1720413.0   \n",
       "1  2013-10-09  155.70  158.20  154.15  155.3  155.55             2049580.0   \n",
       "2  2013-10-10  156.00  160.80  155.85  160.3  160.15             3124853.0   \n",
       "3  2013-10-11  161.15  163.45  159.00  159.8  160.05             1880046.0   \n",
       "4  2013-10-14  160.85  161.45  157.70  159.3  159.45             1281419.0   \n",
       "\n",
       "   Turnover_Lacs  \n",
       "0        2688.94  \n",
       "1        3204.49  \n",
       "2        4978.80  \n",
       "3        3030.76  \n",
       "4        2039.09  "
      ]
     },
     "execution_count": 15,
     "metadata": {},
     "output_type": "execute_result"
    }
   ],
   "source": [
    "df.head()"
   ]
  },
  {
   "cell_type": "markdown",
   "id": "d8bef450",
   "metadata": {},
   "source": [
    " ## 4. Analyze the closing prices from dataframe:"
   ]
  },
  {
   "cell_type": "code",
   "execution_count": 16,
   "id": "af554561",
   "metadata": {},
   "outputs": [
    {
     "data": {
      "text/plain": [
       "[<matplotlib.lines.Line2D at 0x7fc173cb1900>]"
      ]
     },
     "execution_count": 16,
     "metadata": {},
     "output_type": "execute_result"
    },
    {
     "data": {
      "image/png": "[encoded data removed]",
      "text/plain": [
       "<Figure size 1008x360 with 1 Axes>"
      ]
     },
     "metadata": {
      "needs_background": "light"
     },
     "output_type": "display_data"
    }
   ],
   "source": [
    "df[\"Date\"]=pd.to_datetime(df.Date,format=\"%Y-%m-%d\")\n",
    "df.index=df['Date']\n",
    "\n",
    "plt.figure(figsize=(14,5))\n",
    "plt.plot(df[\"Close\"],label='Close Price history')"
   ]
  },
  {
   "cell_type": "markdown",
   "id": "ab62ce30",
   "metadata": {},
   "source": [
    "### 5. Sort the date time & filter “Date” and “Close” columns:"
   ]
  },
  {
   "cell_type": "code",
   "execution_count": 17,
   "id": "02741ce7",
   "metadata": {},
   "outputs": [
    {
     "data": {
      "text/html": [
       "<div>\n",
       "<style scoped>\n",
       "    .dataframe tbody tr th:only-of-type {\n",
       "        vertical-align: middle;\n",
       "    }\n",
       "\n",
       "    .dataframe tbody tr th {\n",
       "        vertical-align: top;\n",
       "    }\n",
       "\n",
       "    .dataframe thead th {\n",
       "        text-align: right;\n",
       "    }\n",
       "</style>\n",
       "<table border=\"1\" class=\"dataframe\">\n",
       "  <thead>\n",
       "    <tr style=\"text-align: right;\">\n",
       "      <th></th>\n",
       "      <th>Date</th>\n",
       "      <th>Close</th>\n",
       "    </tr>\n",
       "  </thead>\n",
       "  <tbody>\n",
       "    <tr>\n",
       "      <th>0</th>\n",
       "      <td>2013-10-08 00:00:00</td>\n",
       "      <td>155.8</td>\n",
       "    </tr>\n",
       "    <tr>\n",
       "      <th>1</th>\n",
       "      <td>2013-10-09 00:00:00</td>\n",
       "      <td>155.55</td>\n",
       "    </tr>\n",
       "    <tr>\n",
       "      <th>2</th>\n",
       "      <td>2013-10-10 00:00:00</td>\n",
       "      <td>160.15</td>\n",
       "    </tr>\n",
       "    <tr>\n",
       "      <th>3</th>\n",
       "      <td>2013-10-11 00:00:00</td>\n",
       "      <td>160.05</td>\n",
       "    </tr>\n",
       "    <tr>\n",
       "      <th>4</th>\n",
       "      <td>2013-10-14 00:00:00</td>\n",
       "      <td>159.45</td>\n",
       "    </tr>\n",
       "  </tbody>\n",
       "</table>\n",
       "</div>"
      ],
      "text/plain": [
       "                  Date   Close\n",
       "0  2013-10-08 00:00:00   155.8\n",
       "1  2013-10-09 00:00:00  155.55\n",
       "2  2013-10-10 00:00:00  160.15\n",
       "3  2013-10-11 00:00:00  160.05\n",
       "4  2013-10-14 00:00:00  159.45"
      ]
     },
     "execution_count": 17,
     "metadata": {},
     "output_type": "execute_result"
    }
   ],
   "source": [
    "data=df.sort_index(ascending=True,axis=0)\n",
    "new_dataset=pd.DataFrame(index=range(0,len(df)),columns=['Date','Close'])\n",
    "\n",
    "for i in range(0,len(data)):\n",
    "    new_dataset[\"Date\"][i]=data['Date'][i]\n",
    "    new_dataset[\"Close\"][i]=data[\"Close\"][i]\n",
    "\n",
    "new_dataset.head()"
   ]
  },
  {
   "cell_type": "markdown",
   "id": "a101f612",
   "metadata": {},
   "source": [
    "### 6. Normalize the dataset:"
   ]
  },
  {
   "cell_type": "code",
   "execution_count": 18,
   "id": "c615cb94",
   "metadata": {},
   "outputs": [],
   "source": [
    "# scaler=MinMaxScaler(feature_range=(0,1))\n",
    "# final_dataset=new_dataset.values\n",
    "# train_data=final_dataset[0:987,:]\n",
    "# valid_data=final_dataset[987:,:]\n",
    "# new_dataset.index=new_dataset.Date\n",
    "# new_dataset.drop(\"Date\",axis=1,inplace=True)\n",
    "# scaler=MinMaxScaler(feature_range=(0,1))\n",
    "# scaled_data=scaler.fit_transform(final_dataset)\n",
    "# x_train_data,y_train_data=[],[]\n",
    "# for i in range(60,len(train_data)):\n",
    "#     x_train_data.append(scaled_data[i-60:i,0])\n",
    "#     y_train_data.append(scaled_data[i,0])\n",
    "    \n",
    "# x_train_data,y_train_data=np.array(x_train_data),np.array(y_train_data)\n",
    "# x_train_data=np.reshape(x_train_data,(x_train_data.shape[0],x_train_data.shape[1],1))"
   ]
  },
  {
   "cell_type": "code",
   "execution_count": null,
   "id": "f605355b",
   "metadata": {},
   "outputs": [],
   "source": []
  },
  {
   "cell_type": "code",
   "execution_count": null,
   "id": "76d83f76",
   "metadata": {},
   "outputs": [],
   "source": []
  }
 ],
 "metadata": {
  "kernelspec": {
   "display_name": "Python 3 (ipykernel)",
   "language": "python",
   "name": "python3"
  },
  "language_info": {
   "codemirror_mode": {
    "name": "ipython",
    "version": 3
   },
   "file_extension": ".py",
   "mimetype": "text/x-python",
   "name": "python",
   "nbconvert_exporter": "python",
   "pygments_lexer": "ipython3",
   "version": "3.10.4"
  }
 },
 "nbformat": 4,
 "nbformat_minor": 5
}
