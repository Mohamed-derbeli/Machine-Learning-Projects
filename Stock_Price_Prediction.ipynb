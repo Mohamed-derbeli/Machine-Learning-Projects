{
  "nbformat": 4,
  "nbformat_minor": 0,
  "metadata": {
    "colab": {
      "name": "Stock_Price_Prediction.ipynb",
      "provenance": [],
      "authorship_tag": "ABX9TyPZA06YzPi0Fs+xC7NLJl7b",
      "include_colab_link": true
    },
    "kernelspec": {
      "name": "python3",
      "display_name": "Python 3"
    },
    "language_info": {
      "name": "python"
    }
  },
  "cells": [
    {
      "cell_type": "markdown",
      "metadata": {
        "id": "view-in-github",
        "colab_type": "text"
      },
      "source": [
        "<a href=\"https://colab.research.google.com/github/Mohamed-derbeli/Machine-Learning-Projects/blob/main/Stock_Price_Prediction.ipynb\" target=\"_parent\"><img src=\"https://colab.research.google.com/assets/colab-badge.svg\" alt=\"Open In Colab\"/></a>"
      ]
    },
    {
      "cell_type": "markdown",
      "source": [
        "# **Stock Price Prediction**\n",
        "\n",
        "\n",
        "*   In this project, we will be talking about predicting the returns on stocks. \n",
        "*   We will predict the stock price using the LSTM neural network.\n",
        "*   The data contains records about the stock price of Tata Global Beverages Limited. The dataset also contains a date-wise price of stock with open, close, high, and low prices along with volume traded as well as turnover on that day."
      ],
      "metadata": {
        "id": "N9fuB_sZ3XJ6"
      }
    },
    {
      "cell_type": "markdown",
      "source": [
        "### 2.    Installing"
      ],
      "metadata": {
        "id": "3itMk1ZHJ-E1"
      }
    },
    {
      "cell_type": "code",
      "source": [
        "# !sudo apt-get install python3-dev default-libmysqlclient-dev\n",
        "!pip install pymysql\n",
        "# !pip install mysql-connector-python"
      ],
      "metadata": {
        "colab": {
          "base_uri": "https://localhost:8080/"
        },
        "id": "K4nO0GL0HoC1",
        "outputId": "8eaeb73c-77ad-4a4b-9eb3-1c32d726a2a4"
      },
      "execution_count": 11,
      "outputs": [
        {
          "output_type": "stream",
          "name": "stdout",
          "text": [
            "Reading package lists... Done\n",
            "Building dependency tree       \n",
            "Reading state information... Done\n",
            "default-libmysqlclient-dev is already the newest version (1.0.4).\n",
            "default-libmysqlclient-dev set to manually installed.\n",
            "python3-dev is already the newest version (3.6.7-1~18.04).\n",
            "python3-dev set to manually installed.\n",
            "The following package was automatically installed and is no longer required:\n",
            "  libnvidia-common-460\n",
            "Use 'sudo apt autoremove' to remove it.\n",
            "0 upgraded, 0 newly installed, 0 to remove and 45 not upgraded.\n",
            "Looking in indexes: https://pypi.org/simple, https://us-python.pkg.dev/colab-wheels/public/simple/\n",
            "Collecting pymysql\n",
            "  Downloading PyMySQL-1.0.2-py3-none-any.whl (43 kB)\n",
            "\u001b[K     |████████████████████████████████| 43 kB 1.2 MB/s \n",
            "\u001b[?25hInstalling collected packages: pymysql\n",
            "Successfully installed pymysql-1.0.2\n",
            "Looking in indexes: https://pypi.org/simple, https://us-python.pkg.dev/colab-wheels/public/simple/\n",
            "Requirement already satisfied: mysql-connector-python in /usr/local/lib/python3.7/dist-packages (8.0.29)\n",
            "Requirement already satisfied: protobuf>=3.0.0 in /usr/local/lib/python3.7/dist-packages (from mysql-connector-python) (3.17.3)\n",
            "Requirement already satisfied: six>=1.9 in /usr/local/lib/python3.7/dist-packages (from protobuf>=3.0.0->mysql-connector-python) (1.15.0)\n"
          ]
        }
      ]
    },
    {
      "cell_type": "markdown",
      "source": [
        "### 1.    Imports"
      ],
      "metadata": {
        "id": "EDeiY1JEKCEP"
      }
    },
    {
      "cell_type": "code",
      "execution_count": 16,
      "metadata": {
        "id": "nzEJB-8L3MoX"
      },
      "outputs": [],
      "source": [
        "import os\n",
        "from sqlalchemy import create_engine\n",
        "\n",
        "import pandas as pd\n",
        "import numpy as np\n",
        "import matplotlib.pyplot as plt\n",
        "%matplotlib inline\n",
        "from matplotlib.pylab import rcParams\n",
        "rcParams['figure.figsize']=20,10\n",
        "from keras.models import Sequential\n",
        "from keras.layers import LSTM,Dropout,Dense\n",
        "from sklearn.preprocessing import MinMaxScaler\n"
      ]
    },
    {
      "cell_type": "markdown",
      "source": [
        "### 3. Connection to mysql server"
      ],
      "metadata": {
        "id": "ybzFX8Vqc4fa"
      }
    },
    {
      "cell_type": "code",
      "source": [
        "# Set environment variables\n",
        "os.environ['MYSQL_DB_USERNAME'] = input(\"Enter the username of the environment variable:\")\n",
        "os.environ['MYSQL_DB_PASSWORD'] = input(\"Enter the password of the environment variable:\")\n",
        "\n",
        "# Get environment variables\n",
        "user_name = os.environ.get('MYSQL_DB_USERNAME')\n",
        "password = os.environ.get('MYSQL_DB_PASSWORD')"
      ],
      "metadata": {
        "id": "qzXvXl8JL7-I"
      },
      "execution_count": 24,
      "outputs": []
    },
    {
      "cell_type": "code",
      "source": [
        "# DEFINE THE DATABASE CREDENTIALS\n",
        "user = user_name\n",
        "password = password\n",
        "host = 'localhost'\n",
        "port = 3306\n",
        "database = 'schema_2_'\n",
        "  \n",
        "# PYTHON FUNCTION TO CONNECT TO THE MYSQL DATABASE AND\n",
        "# RETURN THE SQLACHEMY ENGINE OBJECT\n",
        "def get_connection():\n",
        "    return create_engine(\n",
        "        url=\"mysql+pymysql://{0}:{1}@{2}:{3}/{4}\".format(\n",
        "            user, password, host, port, database\n",
        "        )\n",
        "    )\n",
        "  \n",
        "  \n",
        "if __name__ == '__main__':\n",
        "  \n",
        "    try:\n",
        "        \n",
        "        # GET THE CONNECTION OBJECT (ENGINE) FOR THE DATABASE\n",
        "        engine = get_connection()\n",
        "        print(\n",
        "            f\"Connection to the {host} for user {user} created successfully.\")\n",
        "    except Exception as ex:\n",
        "        print(\"Connection could not be made due to the following error: \\n\", ex)"
      ],
      "metadata": {
        "id": "ul6zsVj_KtIU",
        "outputId": "a7da9996-a4c3-4c6d-ea80-3e91b2f2d0c4",
        "colab": {
          "base_uri": "https://localhost:8080/"
        }
      },
      "execution_count": 25,
      "outputs": [
        {
          "output_type": "stream",
          "name": "stdout",
          "text": [
            "Connection to the localhost for user mohamed_derbeli created successfully.\n"
          ]
        }
      ]
    },
    {
      "cell_type": "markdown",
      "source": [
        "## 2.   Read the dataset:"
      ],
      "metadata": {
        "id": "pXljIpit3cIl"
      }
    },
    {
      "cell_type": "code",
      "source": [
        ""
      ],
      "metadata": {
        "id": "ajLJCAut3bU_"
      },
      "execution_count": null,
      "outputs": []
    }
  ]
}